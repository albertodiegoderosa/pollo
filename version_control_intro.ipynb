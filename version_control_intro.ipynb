{
  "nbformat": 4,
  "nbformat_minor": 0,
  "metadata": {
    "colab": {
      "provenance": [],
      "authorship_tag": "ABX9TyPrUyyC0PHARkqHEJUA5taj",
      "include_colab_link": true
    },
    "kernelspec": {
      "name": "ir",
      "display_name": "R"
    },
    "language_info": {
      "name": "R"
    }
  },
  "cells": [
    {
      "cell_type": "markdown",
      "metadata": {
        "id": "view-in-github",
        "colab_type": "text"
      },
      "source": [
        "<a href=\"https://colab.research.google.com/github/albertodiegoderosa/pollo/blob/master/version_control_intro.ipynb\" target=\"_parent\"><img src=\"https://colab.research.google.com/assets/colab-badge.svg\" alt=\"Open In Colab\"/></a>"
      ]
    },
    {
      "cell_type": "markdown",
      "source": [
        "# Introduction to Version Control and GitHub\n",
        "## for R users\n",
        "### 18/10/2023\n",
        "\n",
        "**Learning outcomes from this lesson:**\n",
        "\n",
        "*At the end of this session you will be able to:*\n",
        "\n",
        "* ***Explain*** what version control is and what actions are available through git and GitHub.\n",
        "* ***Clone*** or ***fork*** existing repositories from R environment.\n",
        "* ***Branch*** and ***merge*** different versions of text-based files.\n",
        "* ***Create*** new repositories from R environment.\n"
      ],
      "metadata": {
        "id": "m5L7cQ14h3Lq"
      }
    },
    {
      "cell_type": "markdown",
      "source": [
        "##What is Version Control?\n",
        "\n",
        "* Version control is a system that tracks changes to a file or set of files over time.\n",
        "\n",
        "* It allows multiple people to work on projects simultaneously without overriding each other's changes, offering a way to merge versions and resolve conflicts\n",
        "\n",
        "* It streamlines collaboration by providing a history of changes, and letting you revert to previous versions of your code or data.\n",
        "\n",
        "* Version control will makes individual and collaborative more efficient and generally tidy, thereby improving the quality of projects and making team efforts smoother."
      ],
      "metadata": {
        "id": "P2WkPVmBiCaJ"
      }
    },
    {
      "cell_type": "markdown",
      "source": [
        "## Why is version control crucial for data science and coding?\n",
        "\n",
        "* Version control is indispensable in data science and coding for managing codebases, data sets, potentially manuscripts (including theses, e.g. if you use LaTeX) and collaboration workflows.\n",
        "\n",
        "* Ecological projects, especially in this time of big--data, often involve complex and evolving code, making it vital to track changes and collaborate effectively.\n",
        "\n",
        "* The ability to revert to previous versions, collaborate in real-time, and resolve conflicts can be the difference between a successful project and a failed one.\n",
        "\n",
        "* Embracing version control in your data science and coding activities will enhance project robustness, improve team dynamics, and ultimately lead to more successful outcomes.\n",
        "\n"
      ],
      "metadata": {
        "id": "945hsD-coBNE"
      }
    },
    {
      "cell_type": "markdown",
      "source": [
        "## git vs GitHub\n",
        "\n",
        "#### *git* is the software\n",
        "\n",
        "* git is a distributed version control software developed in 2005 by Linus Tresvald, when its predecessor *BitKeeper* revoked the free license for Linux kernel developers, it's all on the [git](https://en.wikipedia.org/wiki/Git) wikipedia page.\n",
        "\n",
        "* *git* provides the command line tools to **create**, **clone**, **fork**, **branch**, **checkout**, **merge**, and **delete** repositories.\n",
        "\n",
        "#### *GitHub* is a service\n",
        "\n",
        "* GitHub is an online platform and cloud-based service. It was launched in 2008 by Logical Awesome LLC, and was acquired by Microsoft in 2018.\n",
        "\n",
        "* provides all the Git functions plus additional ones such as access control, bug tracking, software feature requests, pull requests, [and so on](https://en.wikipedia.org/wiki/GitHub).\n",
        "\n"
      ],
      "metadata": {
        "id": "yIUSwJv3pPOf"
      }
    },
    {
      "cell_type": "code",
      "execution_count": 4,
      "metadata": {
        "id": "XZ5xtAo6gxMB"
      },
      "outputs": [],
      "source": [
        "# List of packages you want to use\n",
        "packages <- c(\"devtools\", \"git2r\", \"ggplot2\")\n",
        "\n",
        "# Load the packages, also installing the ones that were not already installed\n",
        "for (pkg in packages) {\n",
        "  if (!requireNamespace(pkg, quietly = TRUE)) {\n",
        "    install.packages(pkg)\n",
        "    library(pkg, character.only = TRUE)\n",
        "  }\n",
        "}"
      ]
    },
    {
      "cell_type": "markdown",
      "source": [
        "## Key Concepts and functions\n",
        "\n",
        "### Repository\n",
        "\n",
        "This is a version-controlled folder; it contains files and folders that are part of a common project.\n",
        "\n",
        "When using GitHub, the lead/official version of the files in the repository is hosted by github.com at an address following this format:\n",
        "\n",
        "*https://github.com/[creator_user_name]/[repository_name]/*\n",
        "\n",
        "### Commit\n",
        "this is an action, it means to commit the files\n",
        "\n",
        "### Push\n",
        "### Branch\n",
        "### Merge\n",
        "### Clone\n",
        "### Fork\n"
      ],
      "metadata": {
        "id": "aCBhHJdksrz3"
      }
    },
    {
      "cell_type": "code",
      "source": [],
      "metadata": {
        "id": "o-qcRarnma1w"
      },
      "execution_count": null,
      "outputs": []
    }
  ]
}